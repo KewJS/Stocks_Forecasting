{
 "cells": [
  {
   "cell_type": "code",
   "execution_count": 87,
   "metadata": {},
   "outputs": [],
   "source": [
    "import math\n",
    "import os\n",
    "import random\n",
    "import re\n",
    "import sys\n",
    "from copy import *"
   ]
  },
  {
   "cell_type": "code",
   "execution_count": 20,
   "metadata": {},
   "outputs": [],
   "source": [
    "s = [1, 7, 2, 4]\n",
    "k = 4"
   ]
  },
  {
   "cell_type": "code",
   "execution_count": 21,
   "metadata": {},
   "outputs": [],
   "source": [
    "remainder = [0] * k\n",
    "for i in s:\n",
    "    remainder[i % k] += 1\n",
    "\n",
    "count = 0\n",
    "count += min(remainder[0], 1)\n",
    "\n",
    "for i in range(1, k//2+1):\n",
    "    if i != k-i:\n",
    "        count += max(remainder[i], remainder[k-i])\n",
    "        \n",
    "if k%2==0:\n",
    "        count += 1"
   ]
  },
  {
   "cell_type": "code",
   "execution_count": 27,
   "metadata": {},
   "outputs": [
    {
     "data": {
      "text/plain": [
       "3"
      ]
     },
     "execution_count": 27,
     "metadata": {},
     "output_type": "execute_result"
    }
   ],
   "source": [
    "count"
   ]
  },
  {
   "cell_type": "markdown",
   "metadata": {},
   "source": [
    "## Count \"a\""
   ]
  },
  {
   "cell_type": "code",
   "execution_count": 43,
   "metadata": {},
   "outputs": [],
   "source": [
    "s = \"aba\"\n",
    "n = 10"
   ]
  },
  {
   "cell_type": "code",
   "execution_count": 44,
   "metadata": {},
   "outputs": [],
   "source": [
    "total = 0\n",
    "for i in s:\n",
    "    if \"a\" == i:\n",
    "        total += 1\n",
    "        \n",
    "total = n // len(s) * total\n",
    "\n",
    "for i in s[:n % len(s)]:\n",
    "    if i == \"a\":\n",
    "        total += 1"
   ]
  },
  {
   "cell_type": "code",
   "execution_count": 42,
   "metadata": {},
   "outputs": [
    {
     "data": {
      "text/plain": [
       "4"
      ]
     },
     "execution_count": 42,
     "metadata": {},
     "output_type": "execute_result"
    }
   ],
   "source": [
    "total"
   ]
  },
  {
   "cell_type": "markdown",
   "metadata": {},
   "source": [
    "## Sorted Array"
   ]
  },
  {
   "cell_type": "code",
   "execution_count": 58,
   "metadata": {},
   "outputs": [],
   "source": [
    "n = 3\n",
    "arr = [3, 1, 2]"
   ]
  },
  {
   "cell_type": "code",
   "execution_count": 53,
   "metadata": {},
   "outputs": [],
   "source": [
    "sortedarr = deepcopy(arr)\n",
    "sortedarr.sort()"
   ]
  },
  {
   "cell_type": "code",
   "execution_count": 55,
   "metadata": {},
   "outputs": [],
   "source": [
    "# if the arrar is already sorted\n",
    "if sortedarr == arr:\n",
    "    print(\"yes\")"
   ]
  },
  {
   "cell_type": "code",
   "execution_count": 63,
   "metadata": {},
   "outputs": [],
   "source": [
    "# if the array can be sorted\n",
    "l = r = -1\n",
    "\n",
    "# left index\n",
    "for i in range(n-1):\n",
    "    if arr[i] > arr[i+1]:\n",
    "        l = i\n",
    "        break\n",
    "\n",
    "# right index\n",
    "for i in range(n-1, 0, -1):\n",
    "    if arr[i] < arr[i-1]:\n",
    "        r = i\n",
    "        break"
   ]
  },
  {
   "cell_type": "code",
   "execution_count": 70,
   "metadata": {},
   "outputs": [],
   "source": [
    "# check for swap\n",
    "temp = deepcopy(arr)\n",
    "temp[l], temp[r] = temp[r], temp[l]\n",
    "\n",
    "if temp == sortedarr:\n",
    "    print(\"yes\")\n",
    "    print(\"swap\", l+1, r+1)"
   ]
  },
  {
   "cell_type": "code",
   "execution_count": 78,
   "metadata": {},
   "outputs": [],
   "source": [
    "# check for reverse\n",
    "temp = deepcopy(arr)\n",
    "temp = temp[:l] + temp[l:r+1][::-1] + temp[r+1:]"
   ]
  },
  {
   "cell_type": "code",
   "execution_count": 82,
   "metadata": {},
   "outputs": [
    {
     "name": "stdout",
     "output_type": "stream",
     "text": [
      "no\n"
     ]
    }
   ],
   "source": [
    "if temp == sortedarr:\n",
    "    print(\"yes\")\n",
    "    print(\"reverse\", l+1, r+1)\n",
    "    \n",
    "print(\"no\")"
   ]
  },
  {
   "cell_type": "markdown",
   "metadata": {},
   "source": [
    "## Matrix Rotation"
   ]
  },
  {
   "cell_type": "code",
   "execution_count": 89,
   "metadata": {},
   "outputs": [],
   "source": [
    "matrix = [[1, 2, 3, 4], [12, 1, 2, 5], [11, 4, 3, 6], [10, 9, 8, 7]]\n",
    "r = 2\n",
    "m = 4\n",
    "n = 4"
   ]
  },
  {
   "cell_type": "code",
   "execution_count": 90,
   "metadata": {},
   "outputs": [],
   "source": [
    "mat = []\n",
    "k = min(m, n) // 2 # compute number of layers"
   ]
  },
  {
   "cell_type": "code",
   "execution_count": 100,
   "metadata": {},
   "outputs": [],
   "source": [
    "for i in range(k):\n",
    "    temp = []\n",
    "    for j in range(i, n-1-i):\n",
    "        temp.append(matrix[i][j])\n",
    "    for j in range(i, m-1-i):\n",
    "            temp.append(matrix[j][n-1-i])\n",
    "    for j in range(n-1-i, i, -1):\n",
    "            temp.append(matrix[m-1-i][j])\n",
    "    for j in range(m-1-i, i, -1):\n",
    "            temp.append(matrix[j][i])\n",
    "    \n",
    "    mat.append(temp)\n",
    "    \n",
    "for i in range(k):\n",
    "    row = mat[i]\n",
    "    # find index after rotation\n",
    "    idx = r % len(row)\n",
    "    def inc():\n",
    "        return (idx+1) % len(row)\n",
    "        \n",
    "    # assign new rotated elements\n",
    "    for j in range(i, n-1-i):\n",
    "        matrix[i][j] = row[idx]\n",
    "        idx = inc()\n",
    "    for j in range(i, m-1-i):\n",
    "        matrix[j][n-1-i] = row[idx]\n",
    "        idx = inc()\n",
    "    for j in range(n-1-i, i, -1):\n",
    "        matrix[m-1-i][j] = row[idx]\n",
    "        idx = inc()\n",
    "    for j in range(m-1-i, i, -1):\n",
    "        matrix[j][i] = row[idx]\n",
    "        idx = inc()\n",
    "\n",
    "for row in matrix:\n",
    "    print(*row)"
   ]
  },
  {
   "cell_type": "markdown",
   "metadata": {},
   "source": [
    "## Maximum Subarray"
   ]
  },
  {
   "cell_type": "code",
   "execution_count": 131,
   "metadata": {},
   "outputs": [],
   "source": [
    "subSequenceSum = 0\n",
    "subArraySum = -sys.maxsize\n",
    "subSequenceTemp = -sys.maxsize\n",
    "subArrayTemp = 0\n",
    "\n",
    "arr = [2, -1, 2, 3, 4, -5]"
   ]
  },
  {
   "cell_type": "code",
   "execution_count": 130,
   "metadata": {},
   "outputs": [
    {
     "name": "stdout",
     "output_type": "stream",
     "text": [
      "subArraySum 2\n",
      "subArraySum 3\n",
      "subArraySum 6\n",
      "subArraySum 10\n",
      "10 11\n"
     ]
    }
   ],
   "source": [
    "for num in arr:\n",
    "    if num > 0:\n",
    "        subSequenceSum += num\n",
    "    else:\n",
    "        subSequenceTemp = max(subSequenceTemp, num)\n",
    "        \n",
    "    subArrayTemp = subArrayTemp + num\n",
    "    if subArrayTemp > subArraySum:\n",
    "        subArraySum = subArrayTemp\n",
    "        print(\"subArraySum\", subArraySum)\n",
    "    \n",
    "    if subArrayTemp < 0:\n",
    "        subArrayTemp = 0\n",
    "        print(\"subArrayTemp\", subArrayTemp)\n",
    "        \n",
    "if subSequenceSum == 0:\n",
    "    subSequenceSum = subSequenceTemp\n",
    "    \n",
    "print(subArraySum, subSequenceSum)"
   ]
  },
  {
   "cell_type": "code",
   "execution_count": 110,
   "metadata": {},
   "outputs": [
    {
     "data": {
      "text/plain": [
       "-9223372036854775807"
      ]
     },
     "execution_count": 110,
     "metadata": {},
     "output_type": "execute_result"
    }
   ],
   "source": [
    "subSequenceTemp"
   ]
  },
  {
   "cell_type": "code",
   "execution_count": null,
   "metadata": {},
   "outputs": [],
   "source": []
  },
  {
   "cell_type": "code",
   "execution_count": null,
   "metadata": {},
   "outputs": [],
   "source": []
  }
 ],
 "metadata": {
  "kernelspec": {
   "display_name": "ts_forecasting",
   "language": "python",
   "name": "python3"
  },
  "language_info": {
   "codemirror_mode": {
    "name": "ipython",
    "version": 3
   },
   "file_extension": ".py",
   "mimetype": "text/x-python",
   "name": "python",
   "nbconvert_exporter": "python",
   "pygments_lexer": "ipython3",
   "version": "3.10.8"
  },
  "orig_nbformat": 4
 },
 "nbformat": 4,
 "nbformat_minor": 2
}
